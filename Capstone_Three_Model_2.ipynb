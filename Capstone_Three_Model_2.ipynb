{
  "nbformat": 4,
  "nbformat_minor": 0,
  "metadata": {
    "colab": {
      "name": "Capstone Three Model 2.ipynb",
      "provenance": [],
      "collapsed_sections": []
    },
    "kernelspec": {
      "name": "python3",
      "display_name": "Python 3"
    },
    "language_info": {
      "name": "python"
    },
    "accelerator": "GPU"
  },
  "cells": [
    {
      "cell_type": "code",
      "metadata": {
        "id": "206Cq7hT5i0z"
      },
      "source": [
        "# Now time for model 2:"
      ],
      "execution_count": null,
      "outputs": []
    },
    {
      "cell_type": "code",
      "metadata": {
        "id": "bFdC1ZCN53pp"
      },
      "source": [
        "import keras,os\n",
        "from keras.models import Sequential\n",
        "from keras.layers import Dense, Conv2D, MaxPool2D , Flatten\n",
        "from keras.preprocessing.image import ImageDataGenerator\n",
        "import numpy as np\n",
        "import tensorflow as tf"
      ],
      "execution_count": null,
      "outputs": []
    },
    {
      "cell_type": "code",
      "metadata": {
        "colab": {
          "base_uri": "https://localhost:8080/"
        },
        "id": "W1NZodzu55ft",
        "outputId": "4c3104a5-0a10-427c-b2db-0bb82c2ef3b7"
      },
      "source": [
        "from google.colab import drive\n",
        "drive.mount('/content/drive')"
      ],
      "execution_count": null,
      "outputs": [
        {
          "output_type": "stream",
          "name": "stdout",
          "text": [
            "Mounted at /content/drive\n"
          ]
        }
      ]
    },
    {
      "cell_type": "code",
      "metadata": {
        "id": "qRghfmCV57QP"
      },
      "source": [
        "#Import the libraries\n",
        "import zipfile\n",
        "import os\n",
        "\n",
        "zip_ref = zipfile.ZipFile('/content/drive/MyDrive/train.zip', 'r') #Opens the zip file in read mode\n",
        "zip_ref.extractall('/tmp') #Extracts the files into the /tmp folder\n",
        "zip_ref.close()"
      ],
      "execution_count": null,
      "outputs": []
    },
    {
      "cell_type": "code",
      "metadata": {
        "colab": {
          "base_uri": "https://localhost:8080/"
        },
        "id": "ZnE7x9q4575H",
        "outputId": "16ca28f7-fde8-4ac8-9a3e-c2d986f90225"
      },
      "source": [
        "len(os.listdir('/tmp/train/Category_1'))\n",
        "\n",
        "#Results\n",
        "#25000"
      ],
      "execution_count": null,
      "outputs": [
        {
          "output_type": "execute_result",
          "data": {
            "text/plain": [
              "3026"
            ]
          },
          "metadata": {},
          "execution_count": 6
        }
      ]
    },
    {
      "cell_type": "code",
      "metadata": {
        "id": "LYYCVi_W598d"
      },
      "source": [
        "zip_ref = zipfile.ZipFile('/content/drive/MyDrive/test.zip', 'r') #Opens the zip file in read mode\n",
        "zip_ref.extractall('/tmp') #Extracts the files into the /tmp folder\n",
        "zip_ref.close()"
      ],
      "execution_count": null,
      "outputs": []
    },
    {
      "cell_type": "code",
      "metadata": {
        "colab": {
          "base_uri": "https://localhost:8080/"
        },
        "id": "vHvcMPn75_4E",
        "outputId": "89aab9c0-3cd1-4749-d8e8-77e3c1e0782a"
      },
      "source": [
        "len(os.listdir('/tmp/train/Category_2'))"
      ],
      "execution_count": null,
      "outputs": [
        {
          "output_type": "execute_result",
          "data": {
            "text/plain": [
              "1027"
            ]
          },
          "metadata": {},
          "execution_count": 8
        }
      ]
    },
    {
      "cell_type": "code",
      "metadata": {
        "colab": {
          "base_uri": "https://localhost:8080/"
        },
        "id": "36db5PMc5kna",
        "outputId": "3d3390fc-837c-4b81-e0f8-e7201080c980"
      },
      "source": [
        "trdata = ImageDataGenerator()\n",
        "traindata = trdata.flow_from_directory(directory=\"/tmp/train\",target_size=(224,224))\n",
        "tsdata = ImageDataGenerator()\n",
        "testdata = tsdata.flow_from_directory(directory=\"/tmp/test\",target_size=(224,224))"
      ],
      "execution_count": null,
      "outputs": [
        {
          "output_type": "stream",
          "name": "stdout",
          "text": [
            "Found 4760 images belonging to 3 classes.\n",
            "Found 1208 images belonging to 3 classes.\n"
          ]
        }
      ]
    },
    {
      "cell_type": "code",
      "metadata": {
        "id": "AznVJzL25nZr"
      },
      "source": [
        "# Creating a CNN from scratch:"
      ],
      "execution_count": null,
      "outputs": []
    },
    {
      "cell_type": "code",
      "metadata": {
        "id": "F_LIjIWU5rAX"
      },
      "source": [
        "from tensorflow.keras.layers.experimental.preprocessing import Resizing\n",
        "model = Sequential()\n",
        "model.add(keras.Input(shape=(None,None,3)))\n",
        "model.add(Resizing(224,224))\n",
        "model.add(Conv2D(32, (3, 3), activation='relu', kernel_initializer='he_uniform', padding='same', input_shape=(224, 224, 3)))\n",
        "model.add(Conv2D(32, (3, 3), activation='relu', kernel_initializer='he_uniform', padding='same'))\n",
        "model.add(MaxPool2D((2, 2)))\n",
        "model.add(Conv2D(64, (3, 3), activation='relu', kernel_initializer='he_uniform', padding='same'))\n",
        "model.add(Conv2D(64, (3, 3), activation='relu', kernel_initializer='he_uniform', padding='same'))\n",
        "model.add(MaxPool2D((2, 2)))\n",
        "model.add(Conv2D(128, (3, 3), activation='relu', kernel_initializer='he_uniform', padding='same'))\n",
        "model.add(Conv2D(128, (3, 3), activation='relu', kernel_initializer='he_uniform', padding='same'))\n",
        "model.add(MaxPool2D((2, 2)))"
      ],
      "execution_count": null,
      "outputs": []
    },
    {
      "cell_type": "code",
      "metadata": {
        "id": "dl4z40w-5sf9"
      },
      "source": [
        "model.add(Flatten())\n",
        "model.add(Dense(128,activation=\"relu\"))\n",
        "model.add(Dense(units=3, activation=\"softmax\"))"
      ],
      "execution_count": null,
      "outputs": []
    },
    {
      "cell_type": "code",
      "metadata": {
        "colab": {
          "base_uri": "https://localhost:8080/"
        },
        "id": "zTWaZ7nT5uXa",
        "outputId": "7bb83cc2-4b23-4ccf-8df1-c1c2a1c9d487"
      },
      "source": [
        "# compile model\n",
        "opt = tf.keras.optimizers.Adam(lr=0.001)\n",
        "model.compile(optimizer=opt, loss=keras.losses.categorical_crossentropy, metrics=['accuracy'])"
      ],
      "execution_count": null,
      "outputs": [
        {
          "output_type": "stream",
          "name": "stderr",
          "text": [
            "/usr/local/lib/python3.7/dist-packages/keras/optimizer_v2/optimizer_v2.py:356: UserWarning: The `lr` argument is deprecated, use `learning_rate` instead.\n",
            "  \"The `lr` argument is deprecated, use `learning_rate` instead.\")\n"
          ]
        }
      ]
    },
    {
      "cell_type": "code",
      "metadata": {
        "colab": {
          "base_uri": "https://localhost:8080/"
        },
        "id": "iUvFEMfV6hab",
        "outputId": "ba24df19-71b8-44e8-dda1-8a6b407e1063"
      },
      "source": [
        "model.summary()"
      ],
      "execution_count": null,
      "outputs": [
        {
          "output_type": "stream",
          "name": "stdout",
          "text": [
            "Model: \"sequential\"\n",
            "_________________________________________________________________\n",
            "Layer (type)                 Output Shape              Param #   \n",
            "=================================================================\n",
            "resizing (Resizing)          (None, 224, 224, 3)       0         \n",
            "_________________________________________________________________\n",
            "conv2d (Conv2D)              (None, 224, 224, 32)      896       \n",
            "_________________________________________________________________\n",
            "conv2d_1 (Conv2D)            (None, 224, 224, 32)      9248      \n",
            "_________________________________________________________________\n",
            "max_pooling2d (MaxPooling2D) (None, 112, 112, 32)      0         \n",
            "_________________________________________________________________\n",
            "conv2d_2 (Conv2D)            (None, 112, 112, 64)      18496     \n",
            "_________________________________________________________________\n",
            "conv2d_3 (Conv2D)            (None, 112, 112, 64)      36928     \n",
            "_________________________________________________________________\n",
            "max_pooling2d_1 (MaxPooling2 (None, 56, 56, 64)        0         \n",
            "_________________________________________________________________\n",
            "conv2d_4 (Conv2D)            (None, 56, 56, 128)       73856     \n",
            "_________________________________________________________________\n",
            "conv2d_5 (Conv2D)            (None, 56, 56, 128)       147584    \n",
            "_________________________________________________________________\n",
            "max_pooling2d_2 (MaxPooling2 (None, 28, 28, 128)       0         \n",
            "_________________________________________________________________\n",
            "flatten (Flatten)            (None, 100352)            0         \n",
            "_________________________________________________________________\n",
            "dense (Dense)                (None, 128)               12845184  \n",
            "_________________________________________________________________\n",
            "dense_1 (Dense)              (None, 3)                 387       \n",
            "=================================================================\n",
            "Total params: 13,132,579\n",
            "Trainable params: 13,132,579\n",
            "Non-trainable params: 0\n",
            "_________________________________________________________________\n"
          ]
        }
      ]
    },
    {
      "cell_type": "code",
      "metadata": {
        "colab": {
          "base_uri": "https://localhost:8080/"
        },
        "id": "i7WRDoUs7dEr",
        "outputId": "049adff6-0455-452d-dc8b-e1d44bf697b4"
      },
      "source": [
        "from keras.callbacks import ModelCheckpoint, EarlyStopping\n",
        "checkpoint = ModelCheckpoint('/content/gdrive/MyDrive/capstone3_checkpoint2.h5',monitor='val_accuracy', verbose=1, save_best_only=True, save_weights_only=False, mode='auto', period=1)\n",
        "early = EarlyStopping(monitor='val_accuracy', min_delta=0, patience=20, verbose=1, mode='auto')\n",
        "hist = model.fit_generator(steps_per_epoch=100,generator=traindata, validation_data= testdata, validation_steps=10,epochs=100,callbacks=[checkpoint,early])\n",
        "model.save('/content/gdrive/MyDrive/capstone3_model2.h5')\n",
        "print(\"Saved model 2 to disk.\")"
      ],
      "execution_count": null,
      "outputs": [
        {
          "output_type": "stream",
          "name": "stdout",
          "text": [
            "WARNING:tensorflow:`period` argument is deprecated. Please use `save_freq` to specify the frequency in number of batches seen.\n"
          ]
        },
        {
          "output_type": "stream",
          "name": "stderr",
          "text": [
            "/usr/local/lib/python3.7/dist-packages/keras/engine/training.py:1972: UserWarning: `Model.fit_generator` is deprecated and will be removed in a future version. Please use `Model.fit`, which supports generators.\n",
            "  warnings.warn('`Model.fit_generator` is deprecated and '\n"
          ]
        },
        {
          "output_type": "stream",
          "name": "stdout",
          "text": [
            "Epoch 1/100\n",
            "100/100 [==============================] - 146s 1s/step - loss: 160.0250 - accuracy: 0.6902 - val_loss: 0.6832 - val_accuracy: 0.7031\n",
            "\n",
            "Epoch 00001: val_accuracy improved from -inf to 0.70312, saving model to /content/gdrive/MyDrive/capstone3_checkpoint2.h5\n",
            "Epoch 2/100\n",
            "100/100 [==============================] - 116s 1s/step - loss: 0.5213 - accuracy: 0.7794 - val_loss: 0.6908 - val_accuracy: 0.7000\n",
            "\n",
            "Epoch 00002: val_accuracy did not improve from 0.70312\n",
            "Epoch 3/100\n",
            "100/100 [==============================] - 116s 1s/step - loss: 0.4907 - accuracy: 0.8011 - val_loss: 0.7742 - val_accuracy: 0.7125\n",
            "\n",
            "Epoch 00003: val_accuracy improved from 0.70312 to 0.71250, saving model to /content/gdrive/MyDrive/capstone3_checkpoint2.h5\n",
            "Epoch 4/100\n",
            "100/100 [==============================] - 117s 1s/step - loss: 0.3783 - accuracy: 0.8440 - val_loss: 0.6648 - val_accuracy: 0.7469\n",
            "\n",
            "Epoch 00004: val_accuracy improved from 0.71250 to 0.74687, saving model to /content/gdrive/MyDrive/capstone3_checkpoint2.h5\n",
            "Epoch 5/100\n",
            "100/100 [==============================] - 116s 1s/step - loss: 0.3230 - accuracy: 0.8731 - val_loss: 0.9763 - val_accuracy: 0.7188\n",
            "\n",
            "Epoch 00005: val_accuracy did not improve from 0.74687\n",
            "Epoch 6/100\n",
            "100/100 [==============================] - 115s 1s/step - loss: 0.2725 - accuracy: 0.8997 - val_loss: 1.0611 - val_accuracy: 0.7250\n",
            "\n",
            "Epoch 00006: val_accuracy did not improve from 0.74687\n",
            "Epoch 7/100\n",
            "100/100 [==============================] - 114s 1s/step - loss: 0.1751 - accuracy: 0.9320 - val_loss: 0.9475 - val_accuracy: 0.7094\n",
            "\n",
            "Epoch 00007: val_accuracy did not improve from 0.74687\n",
            "Epoch 8/100\n",
            "100/100 [==============================] - 115s 1s/step - loss: 0.1493 - accuracy: 0.9472 - val_loss: 1.0406 - val_accuracy: 0.7375\n",
            "\n",
            "Epoch 00008: val_accuracy did not improve from 0.74687\n",
            "Epoch 9/100\n",
            "100/100 [==============================] - 115s 1s/step - loss: 0.1339 - accuracy: 0.9552 - val_loss: 1.1886 - val_accuracy: 0.7437\n",
            "\n",
            "Epoch 00009: val_accuracy did not improve from 0.74687\n",
            "Epoch 10/100\n",
            "100/100 [==============================] - 115s 1s/step - loss: 0.1061 - accuracy: 0.9634 - val_loss: 1.6907 - val_accuracy: 0.6938\n",
            "\n",
            "Epoch 00010: val_accuracy did not improve from 0.74687\n",
            "Epoch 11/100\n",
            "100/100 [==============================] - 115s 1s/step - loss: 0.1120 - accuracy: 0.9571 - val_loss: 1.5295 - val_accuracy: 0.7469\n",
            "\n",
            "Epoch 00011: val_accuracy did not improve from 0.74687\n",
            "Epoch 12/100\n",
            "100/100 [==============================] - 114s 1s/step - loss: 0.0639 - accuracy: 0.9819 - val_loss: 1.5677 - val_accuracy: 0.7063\n",
            "\n",
            "Epoch 00012: val_accuracy did not improve from 0.74687\n",
            "Epoch 13/100\n",
            "100/100 [==============================] - 115s 1s/step - loss: 0.0290 - accuracy: 0.9903 - val_loss: 1.3929 - val_accuracy: 0.7156\n",
            "\n",
            "Epoch 00013: val_accuracy did not improve from 0.74687\n",
            "Epoch 14/100\n",
            "100/100 [==============================] - 114s 1s/step - loss: 0.1002 - accuracy: 0.9746 - val_loss: 1.2448 - val_accuracy: 0.6562\n",
            "\n",
            "Epoch 00014: val_accuracy did not improve from 0.74687\n",
            "Epoch 15/100\n",
            "100/100 [==============================] - 113s 1s/step - loss: 0.0669 - accuracy: 0.9791 - val_loss: 1.9694 - val_accuracy: 0.7281\n",
            "\n",
            "Epoch 00015: val_accuracy did not improve from 0.74687\n",
            "Epoch 16/100\n",
            "100/100 [==============================] - 114s 1s/step - loss: 0.0282 - accuracy: 0.9925 - val_loss: 1.6442 - val_accuracy: 0.7531\n",
            "\n",
            "Epoch 00016: val_accuracy improved from 0.74687 to 0.75313, saving model to /content/gdrive/MyDrive/capstone3_checkpoint2.h5\n",
            "Epoch 17/100\n",
            "100/100 [==============================] - 114s 1s/step - loss: 0.0152 - accuracy: 0.9953 - val_loss: 2.6866 - val_accuracy: 0.6781\n",
            "\n",
            "Epoch 00017: val_accuracy did not improve from 0.75313\n",
            "Epoch 18/100\n",
            "100/100 [==============================] - 114s 1s/step - loss: 0.0049 - accuracy: 0.9991 - val_loss: 2.2984 - val_accuracy: 0.7375\n",
            "\n",
            "Epoch 00018: val_accuracy did not improve from 0.75313\n",
            "Epoch 19/100\n",
            "100/100 [==============================] - 114s 1s/step - loss: 0.0016 - accuracy: 0.9997 - val_loss: 1.8835 - val_accuracy: 0.7625\n",
            "\n",
            "Epoch 00019: val_accuracy improved from 0.75313 to 0.76250, saving model to /content/gdrive/MyDrive/capstone3_checkpoint2.h5\n",
            "Epoch 20/100\n",
            "100/100 [==============================] - 114s 1s/step - loss: 9.2554e-04 - accuracy: 1.0000 - val_loss: 2.2226 - val_accuracy: 0.7469\n",
            "\n",
            "Epoch 00020: val_accuracy did not improve from 0.76250\n",
            "Epoch 21/100\n",
            "100/100 [==============================] - 113s 1s/step - loss: 4.7931e-04 - accuracy: 1.0000 - val_loss: 2.7185 - val_accuracy: 0.7375\n",
            "\n",
            "Epoch 00021: val_accuracy did not improve from 0.76250\n",
            "Epoch 22/100\n",
            "100/100 [==============================] - 114s 1s/step - loss: 1.9732e-04 - accuracy: 1.0000 - val_loss: 2.4582 - val_accuracy: 0.7500\n",
            "\n",
            "Epoch 00022: val_accuracy did not improve from 0.76250\n",
            "Epoch 23/100\n",
            "100/100 [==============================] - 115s 1s/step - loss: 8.6783e-05 - accuracy: 1.0000 - val_loss: 2.9838 - val_accuracy: 0.7344\n",
            "\n",
            "Epoch 00023: val_accuracy did not improve from 0.76250\n",
            "Epoch 24/100\n",
            "100/100 [==============================] - 114s 1s/step - loss: 7.0016e-05 - accuracy: 1.0000 - val_loss: 2.4437 - val_accuracy: 0.7531\n",
            "\n",
            "Epoch 00024: val_accuracy did not improve from 0.76250\n",
            "Epoch 25/100\n",
            "100/100 [==============================] - 114s 1s/step - loss: 4.4849e-05 - accuracy: 1.0000 - val_loss: 2.8099 - val_accuracy: 0.7281\n",
            "\n",
            "Epoch 00025: val_accuracy did not improve from 0.76250\n",
            "Epoch 26/100\n",
            "100/100 [==============================] - 114s 1s/step - loss: 2.5347e-05 - accuracy: 1.0000 - val_loss: 3.2986 - val_accuracy: 0.7188\n",
            "\n",
            "Epoch 00026: val_accuracy did not improve from 0.76250\n",
            "Epoch 27/100\n",
            "100/100 [==============================] - 114s 1s/step - loss: 1.9453e-05 - accuracy: 1.0000 - val_loss: 3.3899 - val_accuracy: 0.7281\n",
            "\n",
            "Epoch 00027: val_accuracy did not improve from 0.76250\n",
            "Epoch 28/100\n",
            "100/100 [==============================] - 115s 1s/step - loss: 1.2948e-05 - accuracy: 1.0000 - val_loss: 3.2820 - val_accuracy: 0.7063\n",
            "\n",
            "Epoch 00028: val_accuracy did not improve from 0.76250\n",
            "Epoch 29/100\n",
            "100/100 [==============================] - 114s 1s/step - loss: 9.5181e-06 - accuracy: 1.0000 - val_loss: 2.7100 - val_accuracy: 0.7531\n",
            "\n",
            "Epoch 00029: val_accuracy did not improve from 0.76250\n",
            "Epoch 30/100\n",
            "100/100 [==============================] - 114s 1s/step - loss: 7.3083e-06 - accuracy: 1.0000 - val_loss: 3.6353 - val_accuracy: 0.7281\n",
            "\n",
            "Epoch 00030: val_accuracy did not improve from 0.76250\n",
            "Epoch 31/100\n",
            "100/100 [==============================] - 115s 1s/step - loss: 4.7033e-06 - accuracy: 1.0000 - val_loss: 3.5396 - val_accuracy: 0.7063\n",
            "\n",
            "Epoch 00031: val_accuracy did not improve from 0.76250\n",
            "Epoch 32/100\n",
            "100/100 [==============================] - 115s 1s/step - loss: 4.7794e-06 - accuracy: 1.0000 - val_loss: 3.2923 - val_accuracy: 0.7250\n",
            "\n",
            "Epoch 00032: val_accuracy did not improve from 0.76250\n",
            "Epoch 33/100\n",
            "100/100 [==============================] - 113s 1s/step - loss: 3.2778e-06 - accuracy: 1.0000 - val_loss: 3.7569 - val_accuracy: 0.7000\n",
            "\n",
            "Epoch 00033: val_accuracy did not improve from 0.76250\n",
            "Epoch 34/100\n",
            "100/100 [==============================] - 113s 1s/step - loss: 3.3188e-06 - accuracy: 1.0000 - val_loss: 3.3203 - val_accuracy: 0.7156\n",
            "\n",
            "Epoch 00034: val_accuracy did not improve from 0.76250\n",
            "Epoch 35/100\n",
            "100/100 [==============================] - 115s 1s/step - loss: 2.9396e-06 - accuracy: 1.0000 - val_loss: 4.4114 - val_accuracy: 0.7031\n",
            "\n",
            "Epoch 00035: val_accuracy did not improve from 0.76250\n",
            "Epoch 36/100\n",
            "100/100 [==============================] - 115s 1s/step - loss: 2.4310e-06 - accuracy: 1.0000 - val_loss: 3.2740 - val_accuracy: 0.7469\n",
            "\n",
            "Epoch 00036: val_accuracy did not improve from 0.76250\n",
            "Epoch 37/100\n",
            "100/100 [==============================] - 114s 1s/step - loss: 1.6519e-06 - accuracy: 1.0000 - val_loss: 3.3045 - val_accuracy: 0.7344\n",
            "\n",
            "Epoch 00037: val_accuracy did not improve from 0.76250\n",
            "Epoch 38/100\n",
            "100/100 [==============================] - 113s 1s/step - loss: 1.6145e-06 - accuracy: 1.0000 - val_loss: 2.6912 - val_accuracy: 0.7656\n",
            "\n",
            "Epoch 00038: val_accuracy improved from 0.76250 to 0.76562, saving model to /content/gdrive/MyDrive/capstone3_checkpoint2.h5\n",
            "Epoch 39/100\n",
            "100/100 [==============================] - 113s 1s/step - loss: 1.7204e-06 - accuracy: 1.0000 - val_loss: 3.3611 - val_accuracy: 0.7156\n",
            "\n",
            "Epoch 00039: val_accuracy did not improve from 0.76562\n",
            "Epoch 40/100\n",
            "100/100 [==============================] - 114s 1s/step - loss: 1.2218e-06 - accuracy: 1.0000 - val_loss: 3.6275 - val_accuracy: 0.7312\n",
            "\n",
            "Epoch 00040: val_accuracy did not improve from 0.76562\n",
            "Epoch 41/100\n",
            "100/100 [==============================] - 115s 1s/step - loss: 1.3911e-06 - accuracy: 1.0000 - val_loss: 3.5173 - val_accuracy: 0.7250\n",
            "\n",
            "Epoch 00041: val_accuracy did not improve from 0.76562\n",
            "Epoch 42/100\n",
            "100/100 [==============================] - 114s 1s/step - loss: 1.1807e-06 - accuracy: 1.0000 - val_loss: 3.7001 - val_accuracy: 0.7156\n",
            "\n",
            "Epoch 00042: val_accuracy did not improve from 0.76562\n",
            "Epoch 43/100\n",
            "100/100 [==============================] - 116s 1s/step - loss: 1.1353e-06 - accuracy: 1.0000 - val_loss: 3.4096 - val_accuracy: 0.7656\n",
            "\n",
            "Epoch 00043: val_accuracy did not improve from 0.76562\n",
            "Epoch 44/100\n",
            "100/100 [==============================] - 115s 1s/step - loss: 8.3558e-07 - accuracy: 1.0000 - val_loss: 2.9844 - val_accuracy: 0.7719\n",
            "\n",
            "Epoch 00044: val_accuracy improved from 0.76562 to 0.77188, saving model to /content/gdrive/MyDrive/capstone3_checkpoint2.h5\n",
            "Epoch 45/100\n",
            "100/100 [==============================] - 115s 1s/step - loss: 7.9174e-07 - accuracy: 1.0000 - val_loss: 3.9514 - val_accuracy: 0.7063\n",
            "\n",
            "Epoch 00045: val_accuracy did not improve from 0.77188\n",
            "Epoch 46/100\n",
            "100/100 [==============================] - 115s 1s/step - loss: 6.5837e-07 - accuracy: 1.0000 - val_loss: 2.9289 - val_accuracy: 0.7812\n",
            "\n",
            "Epoch 00046: val_accuracy improved from 0.77188 to 0.78125, saving model to /content/gdrive/MyDrive/capstone3_checkpoint2.h5\n",
            "Epoch 47/100\n",
            "100/100 [==============================] - 115s 1s/step - loss: 8.4306e-07 - accuracy: 1.0000 - val_loss: 3.7789 - val_accuracy: 0.7125\n",
            "\n",
            "Epoch 00047: val_accuracy did not improve from 0.78125\n",
            "Epoch 48/100\n",
            "100/100 [==============================] - 115s 1s/step - loss: 7.3693e-07 - accuracy: 1.0000 - val_loss: 4.6856 - val_accuracy: 0.6844\n",
            "\n",
            "Epoch 00048: val_accuracy did not improve from 0.78125\n",
            "Epoch 49/100\n",
            "100/100 [==============================] - 115s 1s/step - loss: 5.2221e-07 - accuracy: 1.0000 - val_loss: 3.6370 - val_accuracy: 0.7312\n",
            "\n",
            "Epoch 00049: val_accuracy did not improve from 0.78125\n",
            "Epoch 50/100\n",
            "100/100 [==============================] - 114s 1s/step - loss: 6.3960e-07 - accuracy: 1.0000 - val_loss: 3.1544 - val_accuracy: 0.7656\n",
            "\n",
            "Epoch 00050: val_accuracy did not improve from 0.78125\n",
            "Epoch 51/100\n",
            "100/100 [==============================] - 115s 1s/step - loss: 5.5657e-07 - accuracy: 1.0000 - val_loss: 4.2163 - val_accuracy: 0.7063\n",
            "\n",
            "Epoch 00051: val_accuracy did not improve from 0.78125\n",
            "Epoch 52/100\n",
            "100/100 [==============================] - 115s 1s/step - loss: 5.0950e-07 - accuracy: 1.0000 - val_loss: 3.8645 - val_accuracy: 0.7344\n",
            "\n",
            "Epoch 00052: val_accuracy did not improve from 0.78125\n",
            "Epoch 53/100\n",
            "100/100 [==============================] - 116s 1s/step - loss: 4.7552e-07 - accuracy: 1.0000 - val_loss: 3.5006 - val_accuracy: 0.7406\n",
            "\n",
            "Epoch 00053: val_accuracy did not improve from 0.78125\n",
            "Epoch 54/100\n",
            "100/100 [==============================] - 115s 1s/step - loss: 3.6685e-07 - accuracy: 1.0000 - val_loss: 3.0645 - val_accuracy: 0.7469\n",
            "\n",
            "Epoch 00054: val_accuracy did not improve from 0.78125\n",
            "Epoch 55/100\n",
            "100/100 [==============================] - 114s 1s/step - loss: 3.3589e-07 - accuracy: 1.0000 - val_loss: 4.5670 - val_accuracy: 0.7000\n",
            "\n",
            "Epoch 00055: val_accuracy did not improve from 0.78125\n",
            "Epoch 56/100\n",
            "100/100 [==============================] - 116s 1s/step - loss: 4.2428e-07 - accuracy: 1.0000 - val_loss: 3.8987 - val_accuracy: 0.7344\n",
            "\n",
            "Epoch 00056: val_accuracy did not improve from 0.78125\n",
            "Epoch 57/100\n",
            "100/100 [==============================] - 115s 1s/step - loss: 3.0234e-07 - accuracy: 1.0000 - val_loss: 3.6920 - val_accuracy: 0.7156\n",
            "\n",
            "Epoch 00057: val_accuracy did not improve from 0.78125\n",
            "Epoch 58/100\n",
            "100/100 [==============================] - 116s 1s/step - loss: 2.7972e-07 - accuracy: 1.0000 - val_loss: 3.7453 - val_accuracy: 0.7625\n",
            "\n",
            "Epoch 00058: val_accuracy did not improve from 0.78125\n",
            "Epoch 59/100\n",
            "100/100 [==============================] - 115s 1s/step - loss: 3.3327e-07 - accuracy: 1.0000 - val_loss: 3.6541 - val_accuracy: 0.7219\n",
            "\n",
            "Epoch 00059: val_accuracy did not improve from 0.78125\n",
            "Epoch 60/100\n",
            "100/100 [==============================] - 115s 1s/step - loss: 2.5732e-07 - accuracy: 1.0000 - val_loss: 3.7729 - val_accuracy: 0.7031\n",
            "\n",
            "Epoch 00060: val_accuracy did not improve from 0.78125\n",
            "Epoch 61/100\n",
            "100/100 [==============================] - 114s 1s/step - loss: 2.2933e-07 - accuracy: 1.0000 - val_loss: 3.9863 - val_accuracy: 0.7437\n",
            "\n",
            "Epoch 00061: val_accuracy did not improve from 0.78125\n",
            "Epoch 62/100\n",
            "100/100 [==============================] - 113s 1s/step - loss: 1.9853e-07 - accuracy: 1.0000 - val_loss: 3.7368 - val_accuracy: 0.7406\n",
            "\n",
            "Epoch 00062: val_accuracy did not improve from 0.78125\n",
            "Epoch 63/100\n",
            "100/100 [==============================] - 114s 1s/step - loss: 2.1212e-07 - accuracy: 1.0000 - val_loss: 3.8933 - val_accuracy: 0.7281\n",
            "\n",
            "Epoch 00063: val_accuracy did not improve from 0.78125\n",
            "Epoch 64/100\n",
            "100/100 [==============================] - 115s 1s/step - loss: 1.9476e-07 - accuracy: 1.0000 - val_loss: 4.0878 - val_accuracy: 0.7094\n",
            "\n",
            "Epoch 00064: val_accuracy did not improve from 0.78125\n",
            "Epoch 65/100\n",
            "100/100 [==============================] - 115s 1s/step - loss: 1.8124e-07 - accuracy: 1.0000 - val_loss: 4.0875 - val_accuracy: 0.7344\n",
            "\n",
            "Epoch 00065: val_accuracy did not improve from 0.78125\n",
            "Epoch 66/100\n",
            "100/100 [==============================] - 116s 1s/step - loss: 1.6350e-07 - accuracy: 1.0000 - val_loss: 3.9129 - val_accuracy: 0.7375\n",
            "\n",
            "Epoch 00066: val_accuracy did not improve from 0.78125\n",
            "Epoch 00066: early stopping\n",
            "Saved model 2 to disk.\n"
          ]
        }
      ]
    },
    {
      "cell_type": "code",
      "metadata": {
        "id": "kLsziM4L74a-",
        "colab": {
          "base_uri": "https://localhost:8080/",
          "height": 295
        },
        "outputId": "1646ac12-f3e7-4e6d-e16c-069fc8cb2381"
      },
      "source": [
        "import matplotlib.pyplot as plt\n",
        "plt.plot(hist.history[\"accuracy\"])\n",
        "plt.plot(hist.history['val_accuracy'])\n",
        "plt.plot(hist.history['loss'])\n",
        "plt.plot(hist.history['val_loss'])\n",
        "plt.title(\"model accuracy\")\n",
        "plt.ylabel(\"Accuracy\")\n",
        "plt.xlabel(\"Epoch\")\n",
        "plt.legend([\"Accuracy\",\"Validation Accuracy\",\"loss\",\"Validation Loss\"])\n",
        "plt.show()"
      ],
      "execution_count": null,
      "outputs": [
        {
          "output_type": "display_data",
          "data": {
            "image/png": "[encoded data removed]",
            "text/plain": [
              "<Figure size 432x288 with 1 Axes>"
            ]
          },
          "metadata": {
            "needs_background": "light"
          }
        }
      ]
    },
    {
      "cell_type": "code",
      "metadata": {
        "colab": {
          "base_uri": "https://localhost:8080/",
          "height": 295
        },
        "id": "wRpmhubMxgWN",
        "outputId": "b4464696-482a-4853-c388-6aab9dfa3fa9"
      },
      "source": [
        "import matplotlib.pyplot as plt\n",
        "plt.plot(hist.history[\"accuracy\"])\n",
        "plt.plot(hist.history['val_accuracy'])\n",
        "plt.title(\"model accuracy\")\n",
        "plt.ylabel(\"Accuracy\")\n",
        "plt.xlabel(\"Epoch\")\n",
        "plt.legend([\"Accuracy\",\"Validation Accuracy\"])\n",
        "plt.show()"
      ],
      "execution_count": null,
      "outputs": [
        {
          "output_type": "display_data",
          "data": {
            "image/png": "[encoded data removed]",
            "text/plain": [
              "<Figure size 432x288 with 1 Axes>"
            ]
          },
          "metadata": {
            "needs_background": "light"
          }
        }
      ]
    },
    {
      "cell_type": "code",
      "metadata": {
        "colab": {
          "base_uri": "https://localhost:8080/",
          "height": 295
        },
        "id": "amu4aKQyxktn",
        "outputId": "ff58688d-d10d-4812-f412-8d8a00f84ee5"
      },
      "source": [
        "import matplotlib.pyplot as plt\n",
        "plt.plot(hist.history['loss'])\n",
        "plt.plot(hist.history['val_loss'])\n",
        "plt.title(\"model loss\")\n",
        "plt.ylabel(\"Loss\")\n",
        "plt.xlabel(\"Epoch\")\n",
        "plt.legend([\"loss\",\"Validation Loss\"])\n",
        "plt.show()"
      ],
      "execution_count": null,
      "outputs": [
        {
          "output_type": "display_data",
          "data": {
            "image/png": "[encoded data removed]",
            "text/plain": [
              "<Figure size 432x288 with 1 Axes>"
            ]
          },
          "metadata": {
            "needs_background": "light"
          }
        }
      ]
    },
    {
      "cell_type": "code",
      "metadata": {
        "id": "bcfY8ZXriJeG"
      },
      "source": [
        ""
      ],
      "execution_count": null,
      "outputs": []
    }
  ]
}