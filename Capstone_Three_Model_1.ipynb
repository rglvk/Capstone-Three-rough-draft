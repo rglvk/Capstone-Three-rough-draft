{
  "nbformat": 4,
  "nbformat_minor": 0,
  "metadata": {
    "colab": {
      "name": "Capstone Three.ipynb",
      "provenance": [],
      "collapsed_sections": []
    },
    "kernelspec": {
      "name": "python3",
      "display_name": "Python 3"
    },
    "language_info": {
      "name": "python"
    },
    "accelerator": "GPU"
  },
  "cells": [
    {
      "cell_type": "code",
      "metadata": {
        "id": "R27elTGjrGNF"
      },
      "source": [
        ""
      ],
      "execution_count": null,
      "outputs": []
    },
    {
      "cell_type": "code",
      "metadata": {
        "id": "FH_-Hgzp5C3e"
      },
      "source": [
        "import keras,os\n",
        "from keras.models import Sequential\n",
        "from keras.layers import Dense, Conv2D, MaxPool2D , Flatten\n",
        "from keras.preprocessing.image import ImageDataGenerator\n",
        "import numpy as np\n",
        "import tensorflow as tf"
      ],
      "execution_count": null,
      "outputs": []
    },
    {
      "cell_type": "code",
      "metadata": {
        "id": "EcM1DLui5FOF",
        "colab": {
          "base_uri": "https://localhost:8080/"
        },
        "outputId": "d1ae060a-0e0e-472c-f0fb-c670f9081034"
      },
      "source": [
        "from google.colab import drive\n",
        "drive.mount('/content/drive')"
      ],
      "execution_count": null,
      "outputs": [
        {
          "output_type": "stream",
          "name": "stdout",
          "text": [
            "Mounted at /content/drive\n"
          ]
        }
      ]
    },
    {
      "cell_type": "code",
      "metadata": {
        "id": "bsOMxPVgrGkK"
      },
      "source": [
        "#Import the libraries\n",
        "import zipfile\n",
        "import os\n",
        "\n",
        "zip_ref = zipfile.ZipFile('/content/drive/MyDrive/train.zip', 'r') #Opens the zip file in read mode\n",
        "zip_ref.extractall('/tmp') #Extracts the files into the /tmp folder\n",
        "zip_ref.close()"
      ],
      "execution_count": null,
      "outputs": []
    },
    {
      "cell_type": "code",
      "metadata": {
        "colab": {
          "base_uri": "https://localhost:8080/"
        },
        "id": "SUnzfnUyrG3N",
        "outputId": "c98a94f0-6988-488c-da11-ca2ee49a48ce"
      },
      "source": [
        "len(os.listdir('/tmp/train/Category_1'))\n",
        "\n",
        "#Results\n",
        "#25000"
      ],
      "execution_count": null,
      "outputs": [
        {
          "output_type": "execute_result",
          "data": {
            "text/plain": [
              "3026"
            ]
          },
          "metadata": {},
          "execution_count": 4
        }
      ]
    },
    {
      "cell_type": "code",
      "metadata": {
        "id": "tC07wMXVsZhQ"
      },
      "source": [
        "zip_ref = zipfile.ZipFile('/content/drive/MyDrive/test.zip', 'r') #Opens the zip file in read mode\n",
        "zip_ref.extractall('/tmp') #Extracts the files into the /tmp folder\n",
        "zip_ref.close()"
      ],
      "execution_count": null,
      "outputs": []
    },
    {
      "cell_type": "code",
      "metadata": {
        "colab": {
          "base_uri": "https://localhost:8080/"
        },
        "id": "12u0GUjusZxF",
        "outputId": "3a288d4c-72a5-4f31-f892-29d524e09ed6"
      },
      "source": [
        "len(os.listdir('/tmp/test'))\n",
        "\n"
      ],
      "execution_count": null,
      "outputs": [
        {
          "output_type": "execute_result",
          "data": {
            "text/plain": [
              "4"
            ]
          },
          "metadata": {},
          "execution_count": 6
        }
      ]
    },
    {
      "cell_type": "code",
      "metadata": {
        "colab": {
          "base_uri": "https://localhost:8080/"
        },
        "id": "VadH5qFtsZ7v",
        "outputId": "b332a8e2-cb56-489f-f930-22f2a14d1c50"
      },
      "source": [
        "len(os.listdir('/tmp/test/Category_1'))\n"
      ],
      "execution_count": null,
      "outputs": [
        {
          "output_type": "execute_result",
          "data": {
            "text/plain": [
              "709"
            ]
          },
          "metadata": {},
          "execution_count": 7
        }
      ]
    },
    {
      "cell_type": "code",
      "metadata": {
        "colab": {
          "base_uri": "https://localhost:8080/"
        },
        "id": "Cx5WylrVsaZg",
        "outputId": "02c6bdf3-8e22-4d9a-d100-d3c67440d02d"
      },
      "source": [
        "len(os.listdir('/tmp/test/Category_2'))\n"
      ],
      "execution_count": null,
      "outputs": [
        {
          "output_type": "execute_result",
          "data": {
            "text/plain": [
              "301"
            ]
          },
          "metadata": {},
          "execution_count": 8
        }
      ]
    },
    {
      "cell_type": "code",
      "metadata": {
        "colab": {
          "base_uri": "https://localhost:8080/"
        },
        "id": "r2YRMxdWsaiA",
        "outputId": "988353d9-6bad-471d-ff1c-097f704ba333"
      },
      "source": [
        "len(os.listdir('/tmp/train/Category_2'))\n"
      ],
      "execution_count": null,
      "outputs": [
        {
          "output_type": "execute_result",
          "data": {
            "text/plain": [
              "1027"
            ]
          },
          "metadata": {},
          "execution_count": 9
        }
      ]
    },
    {
      "cell_type": "code",
      "metadata": {
        "id": "eFfvGZOfyMPA",
        "colab": {
          "base_uri": "https://localhost:8080/"
        },
        "outputId": "5bb14553-4d9e-488a-b4f1-b79a18453ebb"
      },
      "source": [
        "trdata = ImageDataGenerator()\n",
        "traindata = trdata.flow_from_directory(directory=\"/tmp/train\",target_size=(224,224))\n",
        "tsdata = ImageDataGenerator()\n",
        "testdata = tsdata.flow_from_directory(directory=\"/tmp/test\",target_size=(224,224))"
      ],
      "execution_count": null,
      "outputs": [
        {
          "output_type": "stream",
          "name": "stdout",
          "text": [
            "Found 4760 images belonging to 3 classes.\n",
            "Found 1208 images belonging to 3 classes.\n"
          ]
        }
      ]
    },
    {
      "cell_type": "code",
      "metadata": {
        "id": "bsUIgUemtxKH"
      },
      "source": [
        "from tensorflow.keras.layers.experimental.preprocessing import Resizing\n",
        "model = Sequential()\n",
        "model.add(keras.Input(shape=(None,None,3)))\n",
        "model.add(Resizing(224,224))\n",
        "model.add(Conv2D(input_shape=(224,224,3),filters=64,kernel_size=(3,3),padding=\"same\", activation=\"relu\"))\n",
        "model.add(Conv2D(filters=64,kernel_size=(3,3),padding=\"same\", activation=\"relu\"))\n",
        "model.add(MaxPool2D(pool_size=(2,2),strides=(2,2)))\n",
        "model.add(Conv2D(filters=128, kernel_size=(3,3), padding=\"same\", activation=\"relu\"))\n",
        "model.add(Conv2D(filters=128, kernel_size=(3,3), padding=\"same\", activation=\"relu\"))\n",
        "model.add(MaxPool2D(pool_size=(2,2),strides=(2,2)))\n",
        "model.add(Conv2D(filters=256, kernel_size=(3,3), padding=\"same\", activation=\"relu\"))\n",
        "model.add(Conv2D(filters=256, kernel_size=(3,3), padding=\"same\", activation=\"relu\"))\n",
        "model.add(Conv2D(filters=256, kernel_size=(3,3), padding=\"same\", activation=\"relu\"))\n",
        "model.add(MaxPool2D(pool_size=(2,2),strides=(2,2)))\n",
        "model.add(Conv2D(filters=512, kernel_size=(3,3), padding=\"same\", activation=\"relu\"))\n",
        "model.add(Conv2D(filters=512, kernel_size=(3,3), padding=\"same\", activation=\"relu\"))\n",
        "model.add(Conv2D(filters=512, kernel_size=(3,3), padding=\"same\", activation=\"relu\"))\n",
        "model.add(MaxPool2D(pool_size=(2,2),strides=(2,2)))\n",
        "model.add(Conv2D(filters=512, kernel_size=(3,3), padding=\"same\", activation=\"relu\"))\n",
        "model.add(Conv2D(filters=512, kernel_size=(3,3), padding=\"same\", activation=\"relu\"))\n",
        "model.add(Conv2D(filters=512, kernel_size=(3,3), padding=\"same\", activation=\"relu\"))\n",
        "model.add(MaxPool2D(pool_size=(2,2),strides=(2,2)))"
      ],
      "execution_count": null,
      "outputs": []
    },
    {
      "cell_type": "code",
      "metadata": {
        "id": "V8Sts_3buBEQ"
      },
      "source": [
        "model.add(Flatten())\n",
        "model.add(Dense(units=4096,activation=\"relu\"))\n",
        "model.add(Dense(units=4096,activation=\"relu\"))\n",
        "model.add(Dense(units=3, activation=\"softmax\"))"
      ],
      "execution_count": null,
      "outputs": []
    },
    {
      "cell_type": "code",
      "metadata": {
        "colab": {
          "base_uri": "https://localhost:8080/"
        },
        "id": "OhBYhHNauFWh",
        "outputId": "172cd487-06a4-46cb-9ada-532a4b9ade39"
      },
      "source": [
        "opt = tf.keras.optimizers.Adam(lr=0.001)\n",
        "model.compile(optimizer=opt, loss=keras.losses.categorical_crossentropy, metrics=['accuracy'])"
      ],
      "execution_count": null,
      "outputs": [
        {
          "output_type": "stream",
          "name": "stderr",
          "text": [
            "/usr/local/lib/python3.7/dist-packages/keras/optimizer_v2/optimizer_v2.py:356: UserWarning: The `lr` argument is deprecated, use `learning_rate` instead.\n",
            "  \"The `lr` argument is deprecated, use `learning_rate` instead.\")\n"
          ]
        }
      ]
    },
    {
      "cell_type": "code",
      "metadata": {
        "colab": {
          "base_uri": "https://localhost:8080/"
        },
        "id": "Z8p8bKYZuJ1j",
        "outputId": "245d3bc0-3374-437b-c3aa-22aa432481a1"
      },
      "source": [
        "model.summary()"
      ],
      "execution_count": null,
      "outputs": [
        {
          "output_type": "stream",
          "name": "stdout",
          "text": [
            "Model: \"sequential\"\n",
            "_________________________________________________________________\n",
            "Layer (type)                 Output Shape              Param #   \n",
            "=================================================================\n",
            "resizing (Resizing)          (None, 224, 224, 3)       0         \n",
            "_________________________________________________________________\n",
            "conv2d (Conv2D)              (None, 224, 224, 64)      1792      \n",
            "_________________________________________________________________\n",
            "conv2d_1 (Conv2D)            (None, 224, 224, 64)      36928     \n",
            "_________________________________________________________________\n",
            "max_pooling2d (MaxPooling2D) (None, 112, 112, 64)      0         \n",
            "_________________________________________________________________\n",
            "conv2d_2 (Conv2D)            (None, 112, 112, 128)     73856     \n",
            "_________________________________________________________________\n",
            "conv2d_3 (Conv2D)            (None, 112, 112, 128)     147584    \n",
            "_________________________________________________________________\n",
            "max_pooling2d_1 (MaxPooling2 (None, 56, 56, 128)       0         \n",
            "_________________________________________________________________\n",
            "conv2d_4 (Conv2D)            (None, 56, 56, 256)       295168    \n",
            "_________________________________________________________________\n",
            "conv2d_5 (Conv2D)            (None, 56, 56, 256)       590080    \n",
            "_________________________________________________________________\n",
            "conv2d_6 (Conv2D)            (None, 56, 56, 256)       590080    \n",
            "_________________________________________________________________\n",
            "max_pooling2d_2 (MaxPooling2 (None, 28, 28, 256)       0         \n",
            "_________________________________________________________________\n",
            "conv2d_7 (Conv2D)            (None, 28, 28, 512)       1180160   \n",
            "_________________________________________________________________\n",
            "conv2d_8 (Conv2D)            (None, 28, 28, 512)       2359808   \n",
            "_________________________________________________________________\n",
            "conv2d_9 (Conv2D)            (None, 28, 28, 512)       2359808   \n",
            "_________________________________________________________________\n",
            "max_pooling2d_3 (MaxPooling2 (None, 14, 14, 512)       0         \n",
            "_________________________________________________________________\n",
            "conv2d_10 (Conv2D)           (None, 14, 14, 512)       2359808   \n",
            "_________________________________________________________________\n",
            "conv2d_11 (Conv2D)           (None, 14, 14, 512)       2359808   \n",
            "_________________________________________________________________\n",
            "conv2d_12 (Conv2D)           (None, 14, 14, 512)       2359808   \n",
            "_________________________________________________________________\n",
            "max_pooling2d_4 (MaxPooling2 (None, 7, 7, 512)         0         \n",
            "_________________________________________________________________\n",
            "flatten (Flatten)            (None, 25088)             0         \n",
            "_________________________________________________________________\n",
            "dense (Dense)                (None, 4096)              102764544 \n",
            "_________________________________________________________________\n",
            "dense_1 (Dense)              (None, 4096)              16781312  \n",
            "_________________________________________________________________\n",
            "dense_2 (Dense)              (None, 3)                 12291     \n",
            "=================================================================\n",
            "Total params: 134,272,835\n",
            "Trainable params: 134,272,835\n",
            "Non-trainable params: 0\n",
            "_________________________________________________________________\n"
          ]
        }
      ]
    },
    {
      "cell_type": "code",
      "metadata": {
        "colab": {
          "base_uri": "https://localhost:8080/"
        },
        "id": "fRFkCD7lvc2K",
        "outputId": "cdab3833-df7e-4d5e-de90-060f079e05ce"
      },
      "source": [
        "from keras.callbacks import ModelCheckpoint, EarlyStopping\n",
        "checkpoint = ModelCheckpoint('/content/gdrive/MyDrive/capstone3_checkpoint.h5', monitor='val_accuracy', verbose=1, save_best_only=True, save_weights_only=False, mode='auto', period=1)\n",
        "early = EarlyStopping(monitor='val_accuracy', min_delta=0, patience=20, verbose=1, mode='auto')\n",
        "hist = model.fit_generator(steps_per_epoch=100,generator=traindata, validation_data= testdata, validation_steps=10,epochs=100,callbacks=[checkpoint,early])\n",
        "model.save('/content/gdrive/MyDrive/capstone3_model.h5')\n",
        "print(\"Saved model to disk\")"
      ],
      "execution_count": null,
      "outputs": [
        {
          "output_type": "stream",
          "name": "stdout",
          "text": [
            "WARNING:tensorflow:`period` argument is deprecated. Please use `save_freq` to specify the frequency in number of batches seen.\n"
          ]
        },
        {
          "output_type": "stream",
          "name": "stderr",
          "text": [
            "/usr/local/lib/python3.7/dist-packages/keras/engine/training.py:1972: UserWarning: `Model.fit_generator` is deprecated and will be removed in a future version. Please use `Model.fit`, which supports generators.\n",
            "  warnings.warn('`Model.fit_generator` is deprecated and '\n"
          ]
        },
        {
          "output_type": "stream",
          "name": "stdout",
          "text": [
            "Epoch 1/100\n",
            "100/100 [==============================] - 176s 1s/step - loss: 31.4957 - accuracy: 0.6081 - val_loss: 0.9792 - val_accuracy: 0.5813\n",
            "\n",
            "Epoch 00001: val_accuracy improved from -inf to 0.58125, saving model to /content/gdrive/MyDrive/capstone3_checkpoint.h5\n",
            "Epoch 2/100\n",
            "100/100 [==============================] - 147s 1s/step - loss: 0.9123 - accuracy: 0.6284 - val_loss: 0.9247 - val_accuracy: 0.6156\n",
            "\n",
            "Epoch 00002: val_accuracy improved from 0.58125 to 0.61563, saving model to /content/gdrive/MyDrive/capstone3_checkpoint.h5\n",
            "Epoch 3/100\n",
            "100/100 [==============================] - 139s 1s/step - loss: 0.8185 - accuracy: 0.6669 - val_loss: 0.7198 - val_accuracy: 0.6687\n",
            "\n",
            "Epoch 00003: val_accuracy improved from 0.61563 to 0.66875, saving model to /content/gdrive/MyDrive/capstone3_checkpoint.h5\n",
            "Epoch 4/100\n",
            "100/100 [==============================] - 137s 1s/step - loss: 0.6230 - accuracy: 0.7403 - val_loss: 0.6347 - val_accuracy: 0.7063\n",
            "\n",
            "Epoch 00004: val_accuracy improved from 0.66875 to 0.70625, saving model to /content/gdrive/MyDrive/capstone3_checkpoint.h5\n",
            "Epoch 5/100\n",
            "100/100 [==============================] - 142s 1s/step - loss: 0.5543 - accuracy: 0.7584 - val_loss: 0.6442 - val_accuracy: 0.7156\n",
            "\n",
            "Epoch 00005: val_accuracy improved from 0.70625 to 0.71562, saving model to /content/gdrive/MyDrive/capstone3_checkpoint.h5\n",
            "Epoch 6/100\n",
            "100/100 [==============================] - 136s 1s/step - loss: 0.5149 - accuracy: 0.7650 - val_loss: 0.6020 - val_accuracy: 0.7469\n",
            "\n",
            "Epoch 00006: val_accuracy improved from 0.71562 to 0.74687, saving model to /content/gdrive/MyDrive/capstone3_checkpoint.h5\n",
            "Epoch 7/100\n",
            "100/100 [==============================] - 147s 1s/step - loss: 0.4761 - accuracy: 0.7816 - val_loss: 0.5365 - val_accuracy: 0.7875\n",
            "\n",
            "Epoch 00007: val_accuracy improved from 0.74687 to 0.78750, saving model to /content/gdrive/MyDrive/capstone3_checkpoint.h5\n",
            "Epoch 8/100\n",
            "100/100 [==============================] - 135s 1s/step - loss: 0.4409 - accuracy: 0.7995 - val_loss: 0.4957 - val_accuracy: 0.7750\n",
            "\n",
            "Epoch 00008: val_accuracy did not improve from 0.78750\n",
            "Epoch 9/100\n",
            "100/100 [==============================] - 137s 1s/step - loss: 0.4302 - accuracy: 0.8067 - val_loss: 0.4401 - val_accuracy: 0.8562\n",
            "\n",
            "Epoch 00009: val_accuracy improved from 0.78750 to 0.85625, saving model to /content/gdrive/MyDrive/capstone3_checkpoint.h5\n",
            "Epoch 10/100\n",
            "100/100 [==============================] - 135s 1s/step - loss: 0.4076 - accuracy: 0.8153 - val_loss: 0.5082 - val_accuracy: 0.7750\n",
            "\n",
            "Epoch 00010: val_accuracy did not improve from 0.85625\n",
            "Epoch 11/100\n",
            "100/100 [==============================] - 136s 1s/step - loss: 0.3666 - accuracy: 0.8377 - val_loss: 0.5118 - val_accuracy: 0.7625\n",
            "\n",
            "Epoch 00011: val_accuracy did not improve from 0.85625\n",
            "Epoch 12/100\n",
            "100/100 [==============================] - 136s 1s/step - loss: 0.3360 - accuracy: 0.8424 - val_loss: 0.7276 - val_accuracy: 0.7406\n",
            "\n",
            "Epoch 00012: val_accuracy did not improve from 0.85625\n",
            "Epoch 13/100\n",
            "100/100 [==============================] - 138s 1s/step - loss: 0.3371 - accuracy: 0.8521 - val_loss: 0.4361 - val_accuracy: 0.8062\n",
            "\n",
            "Epoch 00013: val_accuracy did not improve from 0.85625\n",
            "Epoch 14/100\n",
            "100/100 [==============================] - 136s 1s/step - loss: 0.3168 - accuracy: 0.8628 - val_loss: 0.4279 - val_accuracy: 0.8281\n",
            "\n",
            "Epoch 00014: val_accuracy did not improve from 0.85625\n",
            "Epoch 15/100\n",
            "100/100 [==============================] - 139s 1s/step - loss: 0.3454 - accuracy: 0.8484 - val_loss: 0.5680 - val_accuracy: 0.7656\n",
            "\n",
            "Epoch 00015: val_accuracy did not improve from 0.85625\n",
            "Epoch 16/100\n",
            "100/100 [==============================] - 137s 1s/step - loss: 0.2728 - accuracy: 0.8841 - val_loss: 0.5672 - val_accuracy: 0.8094\n",
            "\n",
            "Epoch 00016: val_accuracy did not improve from 0.85625\n",
            "Epoch 17/100\n",
            "100/100 [==============================] - 137s 1s/step - loss: 0.2565 - accuracy: 0.8969 - val_loss: 0.5629 - val_accuracy: 0.8094\n",
            "\n",
            "Epoch 00017: val_accuracy did not improve from 0.85625\n",
            "Epoch 18/100\n",
            "100/100 [==============================] - 138s 1s/step - loss: 0.2422 - accuracy: 0.8966 - val_loss: 0.4281 - val_accuracy: 0.7969\n",
            "\n",
            "Epoch 00018: val_accuracy did not improve from 0.85625\n",
            "Epoch 19/100\n",
            "100/100 [==============================] - 136s 1s/step - loss: 0.2068 - accuracy: 0.9204 - val_loss: 0.9148 - val_accuracy: 0.7531\n",
            "\n",
            "Epoch 00019: val_accuracy did not improve from 0.85625\n",
            "Epoch 20/100\n",
            "100/100 [==============================] - 138s 1s/step - loss: 0.2027 - accuracy: 0.9201 - val_loss: 0.7979 - val_accuracy: 0.7531\n",
            "\n",
            "Epoch 00020: val_accuracy did not improve from 0.85625\n",
            "Epoch 21/100\n",
            "100/100 [==============================] - 137s 1s/step - loss: 0.1773 - accuracy: 0.9269 - val_loss: 0.7658 - val_accuracy: 0.8000\n",
            "\n",
            "Epoch 00021: val_accuracy did not improve from 0.85625\n",
            "Epoch 22/100\n",
            "100/100 [==============================] - 136s 1s/step - loss: 0.1912 - accuracy: 0.9248 - val_loss: 0.7739 - val_accuracy: 0.7500\n",
            "\n",
            "Epoch 00022: val_accuracy did not improve from 0.85625\n",
            "Epoch 23/100\n",
            "100/100 [==============================] - 135s 1s/step - loss: 0.1650 - accuracy: 0.9348 - val_loss: 1.0439 - val_accuracy: 0.7344\n",
            "\n",
            "Epoch 00023: val_accuracy did not improve from 0.85625\n",
            "Epoch 24/100\n",
            "100/100 [==============================] - 136s 1s/step - loss: 0.1465 - accuracy: 0.9428 - val_loss: 0.6443 - val_accuracy: 0.7781\n",
            "\n",
            "Epoch 00024: val_accuracy did not improve from 0.85625\n",
            "Epoch 25/100\n",
            "100/100 [==============================] - 136s 1s/step - loss: 0.1559 - accuracy: 0.9439 - val_loss: 0.7297 - val_accuracy: 0.8313\n",
            "\n",
            "Epoch 00025: val_accuracy did not improve from 0.85625\n",
            "Epoch 26/100\n",
            "100/100 [==============================] - 138s 1s/step - loss: 0.1216 - accuracy: 0.9546 - val_loss: 0.5223 - val_accuracy: 0.8375\n",
            "\n",
            "Epoch 00026: val_accuracy did not improve from 0.85625\n",
            "Epoch 27/100\n",
            "100/100 [==============================] - 137s 1s/step - loss: 0.1183 - accuracy: 0.9571 - val_loss: 0.5947 - val_accuracy: 0.8250\n",
            "\n",
            "Epoch 00027: val_accuracy did not improve from 0.85625\n",
            "Epoch 28/100\n",
            "100/100 [==============================] - 138s 1s/step - loss: 0.1321 - accuracy: 0.9497 - val_loss: 0.6742 - val_accuracy: 0.8250\n",
            "\n",
            "Epoch 00028: val_accuracy did not improve from 0.85625\n",
            "Epoch 29/100\n",
            "100/100 [==============================] - 138s 1s/step - loss: 0.0937 - accuracy: 0.9624 - val_loss: 0.7770 - val_accuracy: 0.8094\n",
            "\n",
            "Epoch 00029: val_accuracy did not improve from 0.85625\n",
            "Epoch 00029: early stopping\n",
            "Saved model to disk\n"
          ]
        }
      ]
    },
    {
      "cell_type": "code",
      "metadata": {
        "id": "UFo4rbL4vpA5",
        "colab": {
          "base_uri": "https://localhost:8080/",
          "height": 295
        },
        "outputId": "bef588b7-0ae9-45ee-86c0-bcde7afca809"
      },
      "source": [
        "import matplotlib.pyplot as plt\n",
        "plt.plot(hist.history[\"accuracy\"])\n",
        "plt.plot(hist.history['val_accuracy'])\n",
        "plt.plot(hist.history['loss'])\n",
        "plt.plot(hist.history['val_loss'])\n",
        "plt.title(\"model accuracy\")\n",
        "plt.ylabel(\"Accuracy\")\n",
        "plt.xlabel(\"Epoch\")\n",
        "plt.legend([\"Accuracy\",\"Validation Accuracy\",\"loss\",\"Validation Loss\"])\n",
        "plt.show()"
      ],
      "execution_count": null,
      "outputs": [
        {
          "output_type": "display_data",
          "data": {
            "image/png": "[encoded data removed]",
            "text/plain": [
              "<Figure size 432x288 with 1 Axes>"
            ]
          },
          "metadata": {
            "needs_background": "light"
          }
        }
      ]
    },
    {
      "cell_type": "code",
      "metadata": {
        "id": "eI8RtN5Q7QJ-",
        "colab": {
          "base_uri": "https://localhost:8080/",
          "height": 295
        },
        "outputId": "42b416ea-4356-4abd-c368-9017a2e1ea97"
      },
      "source": [
        "import matplotlib.pyplot as plt\n",
        "plt.plot(hist.history[\"accuracy\"])\n",
        "plt.plot(hist.history['val_accuracy'])\n",
        "plt.title(\"model accuracy\")\n",
        "plt.ylabel(\"Accuracy\")\n",
        "plt.xlabel(\"Epoch\")\n",
        "plt.legend([\"Accuracy\",\"Validation Accuracy\"])\n",
        "plt.show()"
      ],
      "execution_count": null,
      "outputs": [
        {
          "output_type": "display_data",
          "data": {
            "image/png": "[encoded data removed]",
            "text/plain": [
              "<Figure size 432x288 with 1 Axes>"
            ]
          },
          "metadata": {
            "needs_background": "light"
          }
        }
      ]
    },
    {
      "cell_type": "code",
      "metadata": {
        "id": "-swH96zM7Zz1",
        "colab": {
          "base_uri": "https://localhost:8080/",
          "height": 295
        },
        "outputId": "860c5371-0952-4ea6-f6c2-93c739cdfa45"
      },
      "source": [
        "import matplotlib.pyplot as plt\n",
        "plt.plot(hist.history['loss'])\n",
        "plt.plot(hist.history['val_loss'])\n",
        "plt.title(\"model loss\")\n",
        "plt.ylabel(\"Loss\")\n",
        "plt.xlabel(\"Epoch\")\n",
        "plt.legend([\"loss\",\"Validation Loss\"])\n",
        "plt.show()"
      ],
      "execution_count": null,
      "outputs": [
        {
          "output_type": "display_data",
          "data": {
            "image/png": "[encoded data removed]",
            "text/plain": [
              "<Figure size 432x288 with 1 Axes>"
            ]
          },
          "metadata": {
            "needs_background": "light"
          }
        }
      ]
    },
    {
      "cell_type": "code",
      "metadata": {
        "id": "9UTrW3Uw4y_i"
      },
      "source": [
        ""
      ],
      "execution_count": null,
      "outputs": []
    }
  ]
}